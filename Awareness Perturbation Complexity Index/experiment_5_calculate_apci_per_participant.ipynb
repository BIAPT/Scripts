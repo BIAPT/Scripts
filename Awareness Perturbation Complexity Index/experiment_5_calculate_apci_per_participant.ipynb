{
 "cells": [
  {
   "cell_type": "code",
   "execution_count": 6,
   "metadata": {},
   "outputs": [
    {
     "data": {
      "text/plain": [
       "0.0719670118503401"
      ]
     },
     "execution_count": 6,
     "metadata": {},
     "output_type": "execute_result"
    }
   ],
   "source": [
    "# General Import\n",
    "import os\n",
    "# General Data science Import\n",
    "import numpy as np\n",
    "import scipy.io as sio\n",
    "\n",
    "import apci\n",
    "\n",
    "# Visualization\n",
    "import matplotlib.pyplot as plt\n",
    "\n",
    "# Variable Initialization\n",
    "threshold = 0.05\n",
    "data_path = \"/home/yacine/Documents/doc_adaptive_reconfiguration/wsas13_result/\"\n",
    "participant_id = \"wsas13\"\n",
    "\n",
    "# Load the data\n",
    "data = sio.loadmat(data_path + \"topographic_maps.mat\")\n",
    "baseline = np.array(data['topographic_maps']['baseline'][0][0])\n",
    "anesthesia = np.array(data['topographic_maps']['anesthesia'][0][0])\n",
    "recovery = np.array(data['topographic_maps']['recovery'][0][0])\n",
    "\n",
    "other_conditions = np.concatenate((anesthesia, recovery))\n",
    "# Threshold the topographic maps to create binary matrices\n",
    "all_maps = apci.threshold_topographic_maps(baseline, other_conditions, threshold)\n",
    "\n",
    "\n",
    "# Calculate APCI using topographic maps \n",
    "apci_score = apci.topographic_alpha_power_apci(all_maps)\n",
    "apci_score"
   ]
  },
  {
   "cell_type": "code",
   "execution_count": null,
   "metadata": {},
   "outputs": [],
   "source": []
  }
 ],
 "metadata": {
  "kernelspec": {
   "display_name": "Python 3",
   "language": "python",
   "name": "python3"
  },
  "language_info": {
   "codemirror_mode": {
    "name": "ipython",
    "version": 3
   },
   "file_extension": ".py",
   "mimetype": "text/x-python",
   "name": "python",
   "nbconvert_exporter": "python",
   "pygments_lexer": "ipython3",
   "version": "3.6.8"
  }
 },
 "nbformat": 4,
 "nbformat_minor": 2
}
