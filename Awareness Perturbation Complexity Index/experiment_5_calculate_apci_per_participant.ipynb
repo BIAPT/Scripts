{
 "cells": [
  {
   "cell_type": "code",
   "execution_count": 5,
   "metadata": {},
   "outputs": [
    {
     "data": {
      "text/plain": [
       "0.39102002673665776"
      ]
     },
     "execution_count": 5,
     "metadata": {},
     "output_type": "execute_result"
    }
   ],
   "source": [
    "# General Import\n",
    "import os\n",
    "# General Data science Import\n",
    "import numpy as np\n",
    "import scipy.io as sio\n",
    "\n",
    "import apci\n",
    "\n",
    "# Visualization\n",
    "import matplotlib.pyplot as plt\n",
    "\n",
    "# Variable Initialization\n",
    "threshold = 0.05\n",
    "data_path = \"C:/Users/biapt/Desktop/apci_data/\"\n",
    "participant_id = \"wsas09\"\n",
    "\n",
    "# Load the data\n",
    "data = sio.loadmat(data_path + \"topographic_maps.mat\")\n",
    "baseline = np.array(data['topographic_maps']['baseline'][0][0])\n",
    "anesthesia = np.array(data['topographic_maps']['anesthesia'][0][0])\n",
    "recovery = np.array(data['topographic_maps']['recovery'][0][0])\n",
    "\n",
    "other_conditions = np.concatenate((anesthesia, recovery))\n",
    "# Threshold the topographic maps to create binary matrices\n",
    "all_maps = apci.threshold_topographic_maps(baseline, other_conditions, threshold)\n",
    "\n",
    "\n",
    "# Calculate APCI using topographic maps \n",
    "apci_score = apci.topographic_alpha_power_apci(all_maps)\n",
    "apci_score"
   ]
  },
  {
   "cell_type": "code",
   "execution_count": null,
   "metadata": {},
   "outputs": [],
   "source": []
  }
 ],
 "metadata": {
  "kernelspec": {
   "display_name": "Python 3",
   "language": "python",
   "name": "python3"
  },
  "language_info": {
   "codemirror_mode": {
    "name": "ipython",
    "version": 3
   },
   "file_extension": ".py",
   "mimetype": "text/x-python",
   "name": "python",
   "nbconvert_exporter": "python",
   "pygments_lexer": "ipython3",
   "version": "3.7.3"
  }
 },
 "nbformat": 4,
 "nbformat_minor": 2
}
