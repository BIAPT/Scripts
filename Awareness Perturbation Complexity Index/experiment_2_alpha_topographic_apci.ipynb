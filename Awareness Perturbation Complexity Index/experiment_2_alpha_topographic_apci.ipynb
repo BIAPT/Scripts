{
 "cells": [
  {
   "cell_type": "code",
   "execution_count": 1,
   "metadata": {},
   "outputs": [
    {
     "name": "stdout",
     "output_type": "stream",
     "text": [
      "Info: numba.jit seems to be available.\n"
     ]
    }
   ],
   "source": [
    "# General Import\n",
    "import os\n",
    "# General Data science Import\n",
    "import numpy as np\n",
    "import scipy.io\n",
    "\n",
    "import apci\n",
    "\n",
    "# Visualization\n",
    "import matplotlib.pyplot as plt"
   ]
  },
  {
   "cell_type": "code",
   "execution_count": 4,
   "metadata": {},
   "outputs": [
    {
     "data": {
      "text/plain": [
       "0.8300800884034651"
      ]
     },
     "execution_count": 4,
     "metadata": {},
     "output_type": "execute_result"
    }
   ],
   "source": [
    "# Variable Initialization\n",
    "threshold = 0.05\n",
    "num_channels = 129\n",
    "num_topographic_maps = 10\n",
    "\n",
    "# Generate random maps\n",
    "random_topographic_maps = np.random.rand(num_topographic_maps,num_channels)\n",
    "\n",
    "# Generate random baseline maps \n",
    "random_baseline_maps = np.random.rand(num_topographic_maps, num_channels)\n",
    "\n",
    "all_maps = apci.threshold_topographic_maps(random_baseline_maps, random_topographic_maps, threshold)\n",
    "\n",
    "# Calculate APCI using topographic maps \n",
    "apci_score = apci.topographic_alpha_power_apci(all_maps)\n",
    "apci_score"
   ]
  },
  {
   "cell_type": "code",
   "execution_count": null,
   "metadata": {},
   "outputs": [],
   "source": []
  }
 ],
 "metadata": {
  "kernelspec": {
   "display_name": "Python 3",
   "language": "python",
   "name": "python3"
  },
  "language_info": {
   "codemirror_mode": {
    "name": "ipython",
    "version": 3
   },
   "file_extension": ".py",
   "mimetype": "text/x-python",
   "name": "python",
   "nbconvert_exporter": "python",
   "pygments_lexer": "ipython3",
   "version": "3.7.3"
  }
 },
 "nbformat": 4,
 "nbformat_minor": 2
}
