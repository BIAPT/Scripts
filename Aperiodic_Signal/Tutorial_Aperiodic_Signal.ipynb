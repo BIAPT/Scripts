{
 "cells": [
  {
   "cell_type": "code",
   "execution_count": 1,
   "metadata": {
    "slideshow": {
     "slide_type": "-"
    }
   },
   "outputs": [],
   "source": [
    "%matplotlib inline"
   ]
  },
  {
   "cell_type": "code",
   "execution_count": 2,
   "metadata": {},
   "outputs": [],
   "source": [
    "# Import sim functions\n",
    "from neurodsp.sim import sim_powerlaw, sim_random_walk, sim_synaptic_current\n",
    "from neurodsp.sim import sim_oscillation\n",
    "from neurodsp.utils import set_random_seed\n",
    "\n",
    "# Import function to compute power spectra\n",
    "from neurodsp.spectral import compute_spectrum\n",
    "\n",
    "# Import utilities for plotting data\n",
    "from neurodsp.utils import create_times\n",
    "from neurodsp.plts.spectral import plot_power_spectra\n",
    "from neurodsp.plts.time_series import plot_time_series\n",
    "\n",
    "import matplotlib.pyplot as plt\n",
    "import ipywidgets\n",
    "import numpy as np "
   ]
  },
  {
   "cell_type": "code",
   "execution_count": 3,
   "metadata": {},
   "outputs": [],
   "source": [
    "# Set the random seed, for consistency simulating data\n",
    "set_random_seed(0)\n"
   ]
  },
  {
   "cell_type": "markdown",
   "metadata": {},
   "source": [
    "# PSD of periodic Signal"
   ]
  },
  {
   "cell_type": "code",
   "execution_count": 4,
   "metadata": {},
   "outputs": [
    {
     "data": {
      "application/vnd.jupyter.widget-view+json": {
       "model_id": "263e922ca0f7472f9db988cceac59cec",
       "version_major": 2,
       "version_minor": 0
      },
      "text/plain": [
       "interactive(children=(FloatSlider(value=10.0, description='frequency', max=50.0, min=1.0, step=1.0), Output())…"
      ]
     },
     "metadata": {},
     "output_type": "display_data"
    },
    {
     "data": {
      "text/plain": [
       "<function __main__.plot_inter(frequency)>"
      ]
     },
     "execution_count": 4,
     "metadata": {},
     "output_type": "execute_result"
    }
   ],
   "source": [
    "def plot_inter(frequency): \n",
    "\n",
    "    # Set some general settings, to be used across all simulations\n",
    "    fs = 100 * frequency\n",
    "    n_seconds = 5\n",
    "    # Create a times vector for the simulations\n",
    "    times = create_times(n_seconds, fs)\n",
    "    \n",
    "    # Simulate a sinusoidal oscillation\n",
    "    osc_sine = sim_oscillation(n_seconds, fs, frequency, cycle='sine')\n",
    "\n",
    "    # Plot the simulated data, in the time domain\n",
    "    plot_time_series(times, osc_sine)\n",
    "\n",
    "    # compute PSD of combined signal\n",
    "    freqs, psd = compute_spectrum(osc_sine, fs)\n",
    "\n",
    "    # plot frequqncy PSD\n",
    "    #plt.figure()\n",
    "    #plt.plot(freqs, psd)\n",
    "    #plt.plot(freqs, psd)\n",
    "    #plt.yscale('log')\n",
    "    #plt.xscale('log')\n",
    "    #plt.xlim(0,100)\n",
    "\n",
    "    # PLot logged PSD\n",
    "    plot_power_spectra(freqs, psd, title='Power-spectral Density')\n",
    "    \n",
    "\n",
    "slider_fre = ipywidgets.FloatSlider(value=10,min=1,max=50,step=1)\n",
    "ipywidgets.interact(plot_inter, frequency=slider_fre)"
   ]
  },
  {
   "cell_type": "markdown",
   "metadata": {},
   "source": [
    "# PSD of colored Noise"
   ]
  },
  {
   "cell_type": "code",
   "execution_count": 5,
   "metadata": {},
   "outputs": [
    {
     "data": {
      "application/vnd.jupyter.widget-view+json": {
       "model_id": "688b081500ac48148730c2892596af68",
       "version_major": 2,
       "version_minor": 0
      },
      "text/plain": [
       "interactive(children=(FloatSlider(value=0.0, description='exponent', max=0.0, min=-4.0, step=1.0), Output()), …"
      ]
     },
     "metadata": {},
     "output_type": "display_data"
    },
    {
     "data": {
      "text/plain": [
       "<function __main__.plot_inter(exponent)>"
      ]
     },
     "execution_count": 5,
     "metadata": {},
     "output_type": "execute_result"
    }
   ],
   "source": [
    "def plot_inter(exponent):\n",
    "\n",
    "    # Set some general settings, to be used across all simulations\n",
    "    fs = 1000\n",
    "    n_seconds = 100\n",
    "    # Create a times vector for the simulations\n",
    "    times = create_times(n_seconds, fs)\n",
    "\n",
    "    # generate some aperiodic signal \n",
    "    noise = sim_powerlaw(n_seconds, fs, exponent)\n",
    "    plot_time_series(times, noise, title='Colored Noise')\n",
    "    \n",
    "    # compute PSD of combined signal\n",
    "    freqs, psd = compute_spectrum(noise, fs)\n",
    "\n",
    "    # plot frequqncy PSD\n",
    "    #plt.figure()\n",
    "    #plt.plot(freqs,psd)\n",
    "    #plt.xlim(0,100)\n",
    "\n",
    "    # PLot logged PSD\n",
    "    plot_power_spectra(freqs, psd, title='Power-spectral Density')\n",
    "\n",
    "slider_exp = ipywidgets.FloatSlider(value=0,min=-4,max=0,step=1)\n",
    "\n",
    "ipywidgets.interact(plot_inter, exponent=slider_exp)\n",
    "\n",
    "\n"
   ]
  },
  {
   "cell_type": "markdown",
   "metadata": {
    "slideshow": {
     "slide_type": "-"
    }
   },
   "source": [
    "# Simulating Aperiodic Signals\n",
    "\n",
    "In this interactive figure, you can simulate neural data with 2 peak frequencies and some aperiodic component. \n",
    "\n",
    "In the PSD plot at the end you can see an 1/f-like activity, whereby power decreases linearly across\n",
    "increasing frequencies, when plotted in log-log (depending on the choosen exponent).\n",
    "\n",
    "Let's start with a power law signal, specifically a brown noise process, or a signal\n",
    "for which the power spectrum is distributed as 1/f^2."
   ]
  },
  {
   "cell_type": "code",
   "execution_count": 6,
   "metadata": {},
   "outputs": [
    {
     "data": {
      "application/vnd.jupyter.widget-view+json": {
       "model_id": "16ed19b574ff4a8dbc8f128fa98614f3",
       "version_major": 2,
       "version_minor": 0
      },
      "text/plain": [
       "interactive(children=(FloatSlider(value=0.0, description='exponent', max=0.0, min=-5.0, step=1.0), FloatSlider…"
      ]
     },
     "metadata": {},
     "output_type": "display_data"
    },
    {
     "data": {
      "text/plain": [
       "<function __main__.plot_inter(exponent, freq1, freq2)>"
      ]
     },
     "execution_count": 6,
     "metadata": {},
     "output_type": "execute_result"
    }
   ],
   "source": [
    "def plot_inter(exponent,freq1,freq2):\n",
    "    \n",
    "    # Set some general settings, to be used across all simulations\n",
    "    fs = 10 * freq1 * freq2\n",
    "    n_seconds = 10\n",
    "    # Create a times vector for the simulations\n",
    "    times = create_times(n_seconds, fs)\n",
    "\n",
    "    # generate some aperiodic brown noise \n",
    "    # Simulate brown noise powerlaw activity\n",
    "    noise = sim_powerlaw(n_seconds, fs, exponent)\n",
    "    plot_time_series(times, noise, title='Colored Noise')\n",
    "    \n",
    "    \n",
    "    # Simulate a sinusoidal oscillation\n",
    "    osc_sine1 = sim_oscillation(n_seconds, fs, freq1, cycle='sine')\n",
    "    osc_sine2 = sim_oscillation(n_seconds, fs, freq2, cycle='sine')\n",
    "    osc_sign = osc_sine1 + osc_sine2\n",
    "    plot_time_series(times, osc_sign, title='Periodic signal')\n",
    "    \n",
    "    # combine signal\n",
    "    comb_sign = noise + osc_sign\n",
    "    plot_time_series(times, comb_sign, title='Combined signal')\n",
    "    \n",
    "    # compute PSD of combined signal with noise\n",
    "    freqs_comb, psd_comb = compute_spectrum(comb_sign, fs)\n",
    "    \n",
    "    # compute PSD of combined signal without noise\n",
    "    freqs_osc, psd_osc = compute_spectrum(osc_sign, fs)\n",
    "    \n",
    "    plot_power_spectra(freqs_comb, psd_comb, title='Power-spectral Density of combined Signal')\n",
    "    #plot_power_spectra([freqs_comb,freqs_osc], [psd_comb,psd_osc], title='Power-spectral Density')\n",
    "    #plt.legend([\"Combined\", \"Oscillator\"])\n",
    "    \n",
    "    \n",
    "slider_exp = ipywidgets.FloatSlider(value=0,min=-5,max=0,step=1)\n",
    "slider_freq1 = ipywidgets.FloatSlider(value=10,min=1,max=50,step=1)\n",
    "slider_freq2 = ipywidgets.FloatSlider(value=13,min=1,max=50,step=1)\n",
    "\n",
    "ipywidgets.interact(plot_inter, exponent=slider_exp, freq1 = slider_freq1, freq2 = slider_freq2)"
   ]
  },
  {
   "cell_type": "markdown",
   "metadata": {},
   "source": [
    "# Filter 1/f Activity"
   ]
  },
  {
   "cell_type": "code",
   "execution_count": 10,
   "metadata": {},
   "outputs": [
    {
     "data": {
      "application/vnd.jupyter.widget-view+json": {
       "model_id": "6c442fc93ced4af8b431fd5d43ec6f6c",
       "version_major": 2,
       "version_minor": 0
      },
      "text/plain": [
       "interactive(children=(FloatSlider(value=10.0, description='f_hipass', max=20.0, min=10.0, step=1.0), FloatSlid…"
      ]
     },
     "metadata": {},
     "output_type": "display_data"
    },
    {
     "data": {
      "text/plain": [
       "<function __main__.plot_inter(f_hipass, f_lowpass, exponent)>"
      ]
     },
     "execution_count": 10,
     "metadata": {},
     "output_type": "execute_result"
    }
   ],
   "source": [
    "def plot_inter(f_hipass, f_lowpass, exponent):\n",
    "\n",
    "    # Set some general settings, to be used across all simulations\n",
    "    fs = 1000\n",
    "    n_seconds = 10\n",
    "    # Create a times vector for the simulations\n",
    "    times = create_times(n_seconds, fs)\n",
    "\n",
    "    # generate some aperiodic signal \n",
    "    noise = sim_powerlaw(n_seconds, fs, exponent)\n",
    "    noise_filt = sim_powerlaw(n_seconds, fs, exponent,f_range=(f_lowpass, f_hipass))\n",
    "    #noise_filt = sim_powerlaw(n_seconds, fs, exponent,f_range=(5, 10))\n",
    "\n",
    "    plot_time_series(times, noise, title='Colored Noise')\n",
    "    plot_time_series(times, noise_filt, title='Filtered Colored Noise')\n",
    "\n",
    "    # compute PSD of combined signal\n",
    "    freqs, psd = compute_spectrum(noise, fs)\n",
    "    freqs_filt, psd_filt = compute_spectrum(noise_filt, fs)\n",
    "\n",
    "    # plot frequqncy PSD\n",
    "    plt.figure()\n",
    "    #plt.plot(freqs,psd)\n",
    "    plt.plot(freqs_filt,psd_filt)\n",
    "    plt.xlim(1,50)\n",
    "    #plt.ylim(0,0.05)\n",
    "    plt.ylabel(\"Power\")\n",
    "    plt.xlabel(\"Frequency\")\n",
    "    \n",
    "slider_exp = ipywidgets.FloatSlider(value=0,min=-10,max=0,step=1)\n",
    "slider_low = ipywidgets.FloatSlider(value=5,min=1,max=9,step=1)\n",
    "slider_high = ipywidgets.FloatSlider(value=10,min=10,max=20,step=1)\n",
    "\n",
    "ipywidgets.interact(plot_inter, f_lowpass = slider_low, f_hipass = slider_high, exponent=slider_exp)\n",
    "\n",
    "\n"
   ]
  },
  {
   "cell_type": "markdown",
   "metadata": {},
   "source": [
    "\n",
    "\n"
   ]
  }
 ],
 "metadata": {
  "kernelspec": {
   "display_name": "Python 3",
   "language": "python",
   "name": "python3"
  },
  "language_info": {
   "codemirror_mode": {
    "name": "ipython",
    "version": 3
   },
   "file_extension": ".py",
   "mimetype": "text/x-python",
   "name": "python",
   "nbconvert_exporter": "python",
   "pygments_lexer": "ipython3",
   "version": "3.9.6"
  }
 },
 "nbformat": 4,
 "nbformat_minor": 1
}
