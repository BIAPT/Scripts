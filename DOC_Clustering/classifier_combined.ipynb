{
 "cells": [
  {
   "cell_type": "code",
   "execution_count": 1,
   "metadata": {
    "pycharm": {
     "is_executing": false
    }
   },
   "outputs": [],
   "source": [
    "%matplotlib inline\n",
    "\n",
    "import matplotlib.pyplot as plt\n",
    "import numpy as np\n",
    "from sklearn.model_selection import train_test_split\n",
    "from sklearn.model_selection import permutation_test_score\n",
    "from sklearn.linear_model import LogisticRegression\n",
    "import pandas as pd\n",
    "from sklearn import model_selection, naive_bayes, svm\n",
    "from sklearn.metrics import confusion_matrix\n",
    "import seaborn as sn\n",
    "from sklearn import metrics\n",
    "import random\n",
    "\n",
    "import sys\n",
    "sys.path.append('../')\n",
    "import dataimport.prepareDataset as prep"
   ]
  },
  {
   "cell_type": "code",
   "execution_count": 2,
   "metadata": {
    "pycharm": {
     "is_executing": false,
     "name": "#%%\n"
    }
   },
   "outputs": [],
   "source": [
    "random.seed(141)"
   ]
  },
  {
   "cell_type": "markdown",
   "metadata": {},
   "source": [
    "are there features which don't have any further content/ don't change over the whole periode\n"
   ]
  },
  {
   "cell_type": "code",
   "execution_count": 3,
   "metadata": {
    "pycharm": {
     "is_executing": false,
     "name": "#%%\n"
    }
   },
   "outputs": [],
   "source": [
    "Part_chro=['13','22','10', '18']\n",
    "Part_reco=['19','20','02','09']"
   ]
  },
  {
   "cell_type": "code",
   "execution_count": 4,
   "metadata": {
    "pycharm": {
     "is_executing": false,
     "name": "#%%\n"
    }
   },
   "outputs": [],
   "source": [
    "[X_Base,X_Anes,X_Reco,Y_ID_Base,Y_ID_Anes,Y_ID_Reco,\n",
    " Y_out_Anes,Y_out_Base,Y_out_Reco ]=prep.prepare_Dataset('data/combined_NEW_wPLI_dPLI_all_10_1_left.pickle')"
   ]
  },
  {
   "cell_type": "code",
   "execution_count": 5,
   "metadata": {},
   "outputs": [
    {
     "data": {
      "text/html": [
       "<div>\n",
       "<style scoped>\n",
       "    .dataframe tbody tr th:only-of-type {\n",
       "        vertical-align: middle;\n",
       "    }\n",
       "\n",
       "    .dataframe tbody tr th {\n",
       "        vertical-align: top;\n",
       "    }\n",
       "\n",
       "    .dataframe thead th {\n",
       "        text-align: right;\n",
       "    }\n",
       "</style>\n",
       "<table border=\"1\" class=\"dataframe\">\n",
       "  <thead>\n",
       "    <tr style=\"text-align: right;\">\n",
       "      <th></th>\n",
       "      <th>(w_FC,)</th>\n",
       "      <th>(w_FP,)</th>\n",
       "      <th>(w_FO,)</th>\n",
       "      <th>(w_FT,)</th>\n",
       "      <th>(w_TO,)</th>\n",
       "      <th>(w_TC,)</th>\n",
       "      <th>(w_TP,)</th>\n",
       "      <th>(w_PO,)</th>\n",
       "      <th>(w_PC,)</th>\n",
       "      <th>(w_CO,)</th>\n",
       "      <th>...</th>\n",
       "      <th>(d_TC,)</th>\n",
       "      <th>(d_TP,)</th>\n",
       "      <th>(d_PO,)</th>\n",
       "      <th>(d_PC,)</th>\n",
       "      <th>(d_CO,)</th>\n",
       "      <th>(d_FF,)</th>\n",
       "      <th>(d_CC,)</th>\n",
       "      <th>(d_PP,)</th>\n",
       "      <th>(d_TT,)</th>\n",
       "      <th>(d_OO,)</th>\n",
       "    </tr>\n",
       "  </thead>\n",
       "  <tbody>\n",
       "    <tr>\n",
       "      <th>0</th>\n",
       "      <td>0.030100</td>\n",
       "      <td>0.102461</td>\n",
       "      <td>0.083395</td>\n",
       "      <td>0.256052</td>\n",
       "      <td>0.146547</td>\n",
       "      <td>0.074338</td>\n",
       "      <td>0.027390</td>\n",
       "      <td>0.120817</td>\n",
       "      <td>0.088814</td>\n",
       "      <td>0.031885</td>\n",
       "      <td>...</td>\n",
       "      <td>0.512624</td>\n",
       "      <td>0.533130</td>\n",
       "      <td>0.541518</td>\n",
       "      <td>0.511450</td>\n",
       "      <td>0.510751</td>\n",
       "      <td>0.603490</td>\n",
       "      <td>0.527621</td>\n",
       "      <td>0.520629</td>\n",
       "      <td>0.537286</td>\n",
       "      <td>0.555800</td>\n",
       "    </tr>\n",
       "    <tr>\n",
       "      <th>1</th>\n",
       "      <td>0.046712</td>\n",
       "      <td>0.124563</td>\n",
       "      <td>0.113504</td>\n",
       "      <td>0.263555</td>\n",
       "      <td>0.198018</td>\n",
       "      <td>0.042305</td>\n",
       "      <td>0.045180</td>\n",
       "      <td>0.080966</td>\n",
       "      <td>0.058868</td>\n",
       "      <td>0.032764</td>\n",
       "      <td>...</td>\n",
       "      <td>0.529521</td>\n",
       "      <td>0.535862</td>\n",
       "      <td>0.536703</td>\n",
       "      <td>0.517674</td>\n",
       "      <td>0.503397</td>\n",
       "      <td>0.572565</td>\n",
       "      <td>0.520864</td>\n",
       "      <td>0.514560</td>\n",
       "      <td>0.499971</td>\n",
       "      <td>0.537907</td>\n",
       "    </tr>\n",
       "    <tr>\n",
       "      <th>2</th>\n",
       "      <td>0.034299</td>\n",
       "      <td>0.067931</td>\n",
       "      <td>0.089008</td>\n",
       "      <td>0.187401</td>\n",
       "      <td>0.158253</td>\n",
       "      <td>0.020782</td>\n",
       "      <td>0.035091</td>\n",
       "      <td>0.042455</td>\n",
       "      <td>0.014485</td>\n",
       "      <td>0.009107</td>\n",
       "      <td>...</td>\n",
       "      <td>0.510873</td>\n",
       "      <td>0.545460</td>\n",
       "      <td>0.555764</td>\n",
       "      <td>0.506364</td>\n",
       "      <td>0.489656</td>\n",
       "      <td>0.591493</td>\n",
       "      <td>0.506064</td>\n",
       "      <td>0.533342</td>\n",
       "      <td>0.502762</td>\n",
       "      <td>0.559013</td>\n",
       "    </tr>\n",
       "    <tr>\n",
       "      <th>3</th>\n",
       "      <td>0.043933</td>\n",
       "      <td>0.066618</td>\n",
       "      <td>0.118669</td>\n",
       "      <td>0.201711</td>\n",
       "      <td>0.232408</td>\n",
       "      <td>0.042731</td>\n",
       "      <td>0.056514</td>\n",
       "      <td>0.056289</td>\n",
       "      <td>0.016804</td>\n",
       "      <td>0.020726</td>\n",
       "      <td>...</td>\n",
       "      <td>0.511549</td>\n",
       "      <td>0.550265</td>\n",
       "      <td>0.532715</td>\n",
       "      <td>0.497733</td>\n",
       "      <td>0.494872</td>\n",
       "      <td>0.541932</td>\n",
       "      <td>0.501477</td>\n",
       "      <td>0.521295</td>\n",
       "      <td>0.526248</td>\n",
       "      <td>0.545173</td>\n",
       "    </tr>\n",
       "    <tr>\n",
       "      <th>4</th>\n",
       "      <td>0.046567</td>\n",
       "      <td>0.064251</td>\n",
       "      <td>0.112513</td>\n",
       "      <td>0.237110</td>\n",
       "      <td>0.235733</td>\n",
       "      <td>0.066263</td>\n",
       "      <td>0.074693</td>\n",
       "      <td>0.041756</td>\n",
       "      <td>0.019001</td>\n",
       "      <td>0.022693</td>\n",
       "      <td>...</td>\n",
       "      <td>0.531602</td>\n",
       "      <td>0.565340</td>\n",
       "      <td>0.516448</td>\n",
       "      <td>0.494579</td>\n",
       "      <td>0.490313</td>\n",
       "      <td>0.538810</td>\n",
       "      <td>0.490438</td>\n",
       "      <td>0.517240</td>\n",
       "      <td>0.526390</td>\n",
       "      <td>0.529853</td>\n",
       "    </tr>\n",
       "  </tbody>\n",
       "</table>\n",
       "<p>5 rows × 30 columns</p>\n",
       "</div>"
      ],
      "text/plain": [
       "    (w_FC,)   (w_FP,)   (w_FO,)   (w_FT,)   (w_TO,)   (w_TC,)   (w_TP,)  \\\n",
       "0  0.030100  0.102461  0.083395  0.256052  0.146547  0.074338  0.027390   \n",
       "1  0.046712  0.124563  0.113504  0.263555  0.198018  0.042305  0.045180   \n",
       "2  0.034299  0.067931  0.089008  0.187401  0.158253  0.020782  0.035091   \n",
       "3  0.043933  0.066618  0.118669  0.201711  0.232408  0.042731  0.056514   \n",
       "4  0.046567  0.064251  0.112513  0.237110  0.235733  0.066263  0.074693   \n",
       "\n",
       "    (w_PO,)   (w_PC,)   (w_CO,)  ...   (d_TC,)   (d_TP,)   (d_PO,)   (d_PC,)  \\\n",
       "0  0.120817  0.088814  0.031885  ...  0.512624  0.533130  0.541518  0.511450   \n",
       "1  0.080966  0.058868  0.032764  ...  0.529521  0.535862  0.536703  0.517674   \n",
       "2  0.042455  0.014485  0.009107  ...  0.510873  0.545460  0.555764  0.506364   \n",
       "3  0.056289  0.016804  0.020726  ...  0.511549  0.550265  0.532715  0.497733   \n",
       "4  0.041756  0.019001  0.022693  ...  0.531602  0.565340  0.516448  0.494579   \n",
       "\n",
       "    (d_CO,)   (d_FF,)   (d_CC,)   (d_PP,)   (d_TT,)   (d_OO,)  \n",
       "0  0.510751  0.603490  0.527621  0.520629  0.537286  0.555800  \n",
       "1  0.503397  0.572565  0.520864  0.514560  0.499971  0.537907  \n",
       "2  0.489656  0.591493  0.506064  0.533342  0.502762  0.559013  \n",
       "3  0.494872  0.541932  0.501477  0.521295  0.526248  0.545173  \n",
       "4  0.490313  0.538810  0.490438  0.517240  0.526390  0.529853  \n",
       "\n",
       "[5 rows x 30 columns]"
      ]
     },
     "execution_count": 5,
     "metadata": {},
     "output_type": "execute_result"
    }
   ],
   "source": [
    "X_Base.head()"
   ]
  },
  {
   "cell_type": "markdown",
   "metadata": {},
   "source": [
    "define 30% test set \n",
    "!!!! only used to select the hyperparameters "
   ]
  },
  {
   "cell_type": "code",
   "execution_count": 6,
   "metadata": {
    "pycharm": {
     "is_executing": false,
     "name": "#%%\n"
    }
   },
   "outputs": [],
   "source": [
    "#X_train,X_test,Y_train,Y_test=train_test_split(X,Y_out,Y_ID,random_state=0,test_size=0.3)\n",
    "X_train_Base,X_test_Base,Y_train_Base,Y_test_Base,Y_ID_Base_train,Y_ID_Base_test=train_test_split(X_Base,Y_out_Base,Y_ID_Base,random_state=0,test_size=0.3)\n",
    "X_train_Reco,X_test_Reco,Y_train_Reco,Y_test_Reco,Y_ID_Reco_train,Y_ID_Reco_test=train_test_split(X_Reco,Y_out_Reco,Y_ID_Reco,random_state=0,test_size=0.3)\n",
    "X_train_Anes,X_test_Anes,Y_train_Anes,Y_test_Anes,Y_ID_Anes_train,Y_ID_Anes_test=train_test_split(X_Anes,Y_out_Anes,Y_ID_Anes,random_state=0,test_size=0.3)\n"
   ]
  },
  {
   "cell_type": "code",
   "execution_count": 7,
   "metadata": {},
   "outputs": [],
   "source": [
    "#lr=LogisticRegression(random_state=0,penalty='l1',C=4,solver='liblinear',max_iter=10000)\n",
    "\n",
    "#score_B, permutation_scores_B, pvalue_B = permutation_test_score(\n",
    "#    lr, X_Base,Y_out_Base, scoring=\"accuracy\", n_permutations=100, n_jobs=-1,cv=3)\n",
    "\n",
    "#score_A, permutation_scores_A, pvalue_A = permutation_test_score(\n",
    "#    lr, X_Anes,Y_out_Anes, scoring=\"accuracy\", n_permutations=100, n_jobs=-1,cv=3)\n",
    "\n",
    "#score_R, permutation_scores_R, pvalue_R = permutation_test_score(\n",
    "#    lr, X_Reco,Y_out_Reco, scoring=\"accuracy\", n_permutations=100, n_jobs=-1,cv=3)\n",
    "\n"
   ]
  },
  {
   "cell_type": "code",
   "execution_count": 8,
   "metadata": {},
   "outputs": [
    {
     "data": {
      "text/plain": [
       "\"\\nplt.figure(figsize= [15, 6])\\nplt.subplot(131)\\nplt.hist(permutation_scores_B, 20, label='Permutation scores Baseline')\\nylim = plt.ylim()\\nplt.plot(2 * [score_B], ylim, '--g', linewidth=3,\\n         label='Classification Score'\\n         ' (pvalue %s)' % pvalue_B)\\nplt.plot(2 * [1. / 2], ylim, '--k', linewidth=3, label='Luck')\\nplt.legend()\\nplt.xlabel('Score')\\n\\nplt.subplot(132)\\nplt.hist(permutation_scores_A, 20, label='Permutation scores Anesthesia')\\nylim = plt.ylim()\\nplt.plot(2 * [score_A], ylim, '--g', linewidth=3,\\n         label='Classification Score'\\n         ' (pvalue %s)' % pvalue_A)\\nplt.plot(2 * [1. / 2], ylim, '--k', linewidth=3, label='Luck')\\nplt.legend()\\nplt.xlabel('Score')\\n\\nplt.subplot(133)\\nplt.hist(permutation_scores_R, 20, label='Permutation scores Recovery')\\nylim = plt.ylim()\\nplt.plot(2 * [score_R], ylim, '--g', linewidth=3,\\n         label='Classification Score'\\n         ' (pvalue %s)' % pvalue_R)\\nplt.plot(2 * [1. / 2], ylim, '--k', linewidth=3, label='Luck')\\n\\nplt.legend()\\nplt.xlabel('Score')\\nplt.savefig('combined_LogReg_permutation.png',dpi=150)\\n\""
      ]
     },
     "execution_count": 8,
     "metadata": {},
     "output_type": "execute_result"
    }
   ],
   "source": [
    "# View histogram of permutation scores\n",
    "\"\"\"\n",
    "plt.figure(figsize= [15, 6])\n",
    "plt.subplot(131)\n",
    "plt.hist(permutation_scores_B, 20, label='Permutation scores Baseline')\n",
    "ylim = plt.ylim()\n",
    "plt.plot(2 * [score_B], ylim, '--g', linewidth=3,\n",
    "         label='Classification Score'\n",
    "         ' (pvalue %s)' % pvalue_B)\n",
    "plt.plot(2 * [1. / 2], ylim, '--k', linewidth=3, label='Luck')\n",
    "plt.legend()\n",
    "plt.xlabel('Score')\n",
    "\n",
    "plt.subplot(132)\n",
    "plt.hist(permutation_scores_A, 20, label='Permutation scores Anesthesia')\n",
    "ylim = plt.ylim()\n",
    "plt.plot(2 * [score_A], ylim, '--g', linewidth=3,\n",
    "         label='Classification Score'\n",
    "         ' (pvalue %s)' % pvalue_A)\n",
    "plt.plot(2 * [1. / 2], ylim, '--k', linewidth=3, label='Luck')\n",
    "plt.legend()\n",
    "plt.xlabel('Score')\n",
    "\n",
    "plt.subplot(133)\n",
    "plt.hist(permutation_scores_R, 20, label='Permutation scores Recovery')\n",
    "ylim = plt.ylim()\n",
    "plt.plot(2 * [score_R], ylim, '--g', linewidth=3,\n",
    "         label='Classification Score'\n",
    "         ' (pvalue %s)' % pvalue_R)\n",
    "plt.plot(2 * [1. / 2], ylim, '--k', linewidth=3, label='Luck')\n",
    "\n",
    "plt.legend()\n",
    "plt.xlabel('Score')\n",
    "plt.savefig('combined_LogReg_permutation.png',dpi=150)\n",
    "\"\"\""
   ]
  },
  {
   "cell_type": "code",
   "execution_count": 9,
   "metadata": {
    "scrolled": true
   },
   "outputs": [
    {
     "data": {
      "text/plain": [
       "'\\ndata = [[score_B, pvalue_B], \\n        [score_A, pvalue_A],\\n        [score_R, pvalue_R]]\\n\\npd.DataFrame(data, columns=[\"permutation LR\", \"pvalue\"],index=[\\'Baseline\\',\\'Anesthesia\\',\\'Recovery\\'])\\n'"
      ]
     },
     "execution_count": 9,
     "metadata": {},
     "output_type": "execute_result"
    }
   ],
   "source": [
    "\"\"\"\n",
    "data = [[score_B, pvalue_B], \n",
    "        [score_A, pvalue_A],\n",
    "        [score_R, pvalue_R]]\n",
    "\n",
    "pd.DataFrame(data, columns=[\"permutation LR\", \"pvalue\"],index=['Baseline','Anesthesia','Recovery'])\n",
    "\"\"\""
   ]
  },
  {
   "cell_type": "markdown",
   "metadata": {
    "pycharm": {
     "name": "#%% md\n"
    }
   },
   "source": [
    "LOGISTIC REGRESSION\n",
    "  I Hyperparameter search"
   ]
  },
  {
   "cell_type": "code",
   "execution_count": 10,
   "metadata": {
    "pycharm": {
     "is_executing": false,
     "name": "#%%\n"
    }
   },
   "outputs": [],
   "source": [
    "\n",
    "\n",
    "cs=np.arange(1,8,0.5)\n",
    "lr_accuracy_Base=[]\n",
    "lr_accuracy_Anes=[]\n",
    "lr_accuracy_Reco=[]"
   ]
  },
  {
   "cell_type": "code",
   "execution_count": 11,
   "metadata": {
    "pycharm": {
     "is_executing": false,
     "name": "#%%\n"
    }
   },
   "outputs": [],
   "source": [
    "for c in cs:\n",
    "    lr=LogisticRegression(random_state=0,penalty='l1',C=c,solver='liblinear',max_iter=10000)\n",
    "    lr.fit(X_train_Base,Y_train_Base)\n",
    "    P_lr=lr.predict(X_test_Base)\n",
    "    lr_accuracy_Base.append(metrics.accuracy_score(Y_test_Base, P_lr))\n",
    "\n",
    "    lr=LogisticRegression(random_state=0,penalty='l1',C=c,solver='liblinear',max_iter=10000)\n",
    "    lr.fit(X_train_Anes,Y_train_Anes)\n",
    "    P_lr=lr.predict(X_test_Anes)\n",
    "    lr_accuracy_Anes.append(metrics.accuracy_score(Y_test_Anes, P_lr))\n",
    "\n",
    "    lr=LogisticRegression(random_state=0,penalty='l1',C=c,solver='liblinear',max_iter=10000)\n",
    "    lr.fit(X_train_Reco,Y_train_Reco)\n",
    "    P_lr=lr.predict(X_test_Reco)\n",
    "    lr_accuracy_Reco.append(metrics.accuracy_score(Y_test_Reco, P_lr))\n",
    "\n",
    "#feat_importances_Reco = pd.Series(lr.coef_[0], index=X.columns)\n",
    "#feat_importances_Reco.plot(kind='barh')"
   ]
  },
  {
   "cell_type": "code",
   "execution_count": 12,
   "metadata": {
    "pycharm": {
     "is_executing": false,
     "name": "#%%\n"
    }
   },
   "outputs": [
    {
     "data": {
      "image/png": "[encoded data removed]",
      "text/plain": [
       "<Figure size 432x288 with 1 Axes>"
      ]
     },
     "metadata": {
      "needs_background": "light"
     },
     "output_type": "display_data"
    }
   ],
   "source": [
    "%matplotlib inline\n",
    "\n",
    "plt.plot(cs,lr_accuracy_Base)\n",
    "plt.plot(cs,lr_accuracy_Anes)\n",
    "plt.plot(cs,lr_accuracy_Reco)\n",
    "plt.ylabel('Accuracy [%]')\n",
    "plt.xlabel('C')\n",
    "plt.title('Linear Regression')\n",
    "plt.legend(['Baseline','Anesthesia','Recovery'])\n",
    "plt.savefig('combined_LogReg_hyper.png',dpi=150)\n",
    "plt.show()\n",
    "\n"
   ]
  },
  {
   "cell_type": "markdown",
   "metadata": {},
   "source": [
    "NEW TRY "
   ]
  },
  {
   "cell_type": "code",
   "execution_count": 13,
   "metadata": {},
   "outputs": [
    {
     "name": "stdout",
     "output_type": "stream",
     "text": [
      "0.8661764705882353\n"
     ]
    },
    {
     "ename": "NameError",
     "evalue": "name 'tmp_X_train_Base' is not defined",
     "output_type": "error",
     "traceback": [
      "\u001b[1;31m---------------------------------------------------------------------------\u001b[0m",
      "\u001b[1;31mNameError\u001b[0m                                 Traceback (most recent call last)",
      "\u001b[1;32m<ipython-input-13-bc864e2a13e1>\u001b[0m in \u001b[0;36m<module>\u001b[1;34m\u001b[0m\n\u001b[0;32m      6\u001b[0m \u001b[1;33m\u001b[0m\u001b[0m\n\u001b[0;32m      7\u001b[0m \u001b[0mlr\u001b[0m \u001b[1;33m=\u001b[0m \u001b[0mAdaBoostClassifier\u001b[0m\u001b[1;33m(\u001b[0m\u001b[0mn_estimators\u001b[0m\u001b[1;33m=\u001b[0m\u001b[1;36m1000\u001b[0m\u001b[1;33m,\u001b[0m \u001b[0mrandom_state\u001b[0m\u001b[1;33m=\u001b[0m\u001b[1;36m0\u001b[0m\u001b[1;33m)\u001b[0m\u001b[1;33m\u001b[0m\u001b[1;33m\u001b[0m\u001b[0m\n\u001b[1;32m----> 8\u001b[1;33m \u001b[0mlr\u001b[0m\u001b[1;33m.\u001b[0m\u001b[0mfit\u001b[0m\u001b[1;33m(\u001b[0m\u001b[0mtmp_X_train_Base\u001b[0m\u001b[1;33m,\u001b[0m \u001b[0mtmp_Y_train_Base\u001b[0m\u001b[1;33m)\u001b[0m\u001b[1;33m\u001b[0m\u001b[1;33m\u001b[0m\u001b[0m\n\u001b[0m\u001b[0;32m      9\u001b[0m \u001b[0mcv_LR_Base\u001b[0m\u001b[1;33m.\u001b[0m\u001b[0mappend\u001b[0m\u001b[1;33m(\u001b[0m\u001b[0mlr\u001b[0m\u001b[1;33m.\u001b[0m\u001b[0mscore\u001b[0m\u001b[1;33m(\u001b[0m\u001b[0mtmp_X_test_Base\u001b[0m\u001b[1;33m,\u001b[0m \u001b[0mtmp_Y_test_Base\u001b[0m\u001b[1;33m)\u001b[0m\u001b[1;33m)\u001b[0m\u001b[1;33m\u001b[0m\u001b[1;33m\u001b[0m\u001b[0m\n",
      "\u001b[1;31mNameError\u001b[0m: name 'tmp_X_train_Base' is not defined"
     ]
    }
   ],
   "source": [
    "from sklearn.ensemble import AdaBoostClassifier\n",
    "clf = AdaBoostClassifier(n_estimators=1000, random_state=0)\n",
    "clf.fit(X_train_Base,Y_train_Base)\n",
    "P_lr=clf.predict(X_test_Base)\n",
    "print(clf.score(X_test_Base,Y_test_Base))\n",
    "\n",
    "lr = AdaBoostClassifier(n_estimators=1000, random_state=0)\n",
    "lr.fit(tmp_X_train_Base, tmp_Y_train_Base)\n",
    "cv_LR_Base.append(lr.score(tmp_X_test_Base, tmp_Y_test_Base))\n"
   ]
  },
  {
   "cell_type": "code",
   "execution_count": null,
   "metadata": {},
   "outputs": [],
   "source": [
    "lr.score(tmp_X_test_Base, tmp_Y_test_Base)"
   ]
  },
  {
   "cell_type": "code",
   "execution_count": null,
   "metadata": {
    "pycharm": {
     "is_executing": false,
     "name": "#%%\n"
    }
   },
   "outputs": [],
   "source": [
    "from sklearn.ensemble import AdaBoostClassifier\n",
    "\n",
    "cv_LR_Base=[]\n",
    "cv_LR_Anes=[]\n",
    "cv_LR_Reco=[]\n",
    "\n",
    "\n",
    "for r in range(0,4):\n",
    "    for c in range (0,4):\n",
    "        tmp_X_test_Base=X_Base[(Y_ID_Base == Part_reco[r]) | (Y_ID_Base == Part_chro[c])]\n",
    "        tmp_X_train_Base=X_Base[(Y_ID_Base != Part_reco[r]) & (Y_ID_Base != Part_chro[c])]\n",
    "        tmp_Y_test_Base=Y_out_Base[(Y_ID_Base == Part_reco[r]) | (Y_ID_Base == Part_chro[c])]\n",
    "        tmp_Y_train_Base=Y_out_Base[(Y_ID_Base != Part_reco[r]) & (Y_ID_Base != Part_chro[c])]\n",
    "        \n",
    "        tmp_X_test_Anes=X_Anes[(Y_ID_Anes == Part_reco[r]) | (Y_ID_Anes == Part_chro[c])]\n",
    "        tmp_X_train_Anes=X_Anes[(Y_ID_Anes != Part_reco[r]) & (Y_ID_Anes != Part_chro[c])]\n",
    "        tmp_Y_test_Anes=Y_out_Anes[(Y_ID_Anes == Part_reco[r]) | (Y_ID_Anes == Part_chro[c])]\n",
    "        tmp_Y_train_Anes=Y_out_Anes[(Y_ID_Anes != Part_reco[r]) & (Y_ID_Anes != Part_chro[c])]\n",
    "\n",
    "        tmp_X_test_Reco=X_Reco[(Y_ID_Reco == Part_reco[r]) | (Y_ID_Reco == Part_chro[c])]\n",
    "        tmp_X_train_Reco=X_Reco[(Y_ID_Reco != Part_reco[r]) & (Y_ID_Reco != Part_chro[c])]\n",
    "        tmp_Y_test_Reco=Y_out_Reco[(Y_ID_Reco == Part_reco[r]) | (Y_ID_Reco == Part_chro[c])]\n",
    "        tmp_Y_train_Reco=Y_out_Reco[(Y_ID_Reco != Part_reco[r]) & (Y_ID_Reco != Part_chro[c])]\n",
    "\n",
    "        lr = AdaBoostClassifier(n_estimators=1000, random_state=0)\n",
    "        lr.fit(tmp_X_train_Base, tmp_Y_train_Base)\n",
    "        cv_LR_Base.append(lr.score(tmp_X_test_Base, tmp_Y_test_Base))\n",
    "        \n",
    "        lr = AdaBoostClassifier(n_estimators=1000, random_state=0)\n",
    "        lr.fit(tmp_X_train_Anes, tmp_Y_train_Anes)\n",
    "        cv_LR_Anes.append(lr.score(tmp_X_test_Anes, tmp_Y_test_Anes))\n",
    "        \n",
    "        lr = AdaBoostClassifier(n_estimators=1000, random_state=0)\n",
    "        lr.fit(tmp_X_train_Reco, tmp_Y_train_Reco)\n",
    "        cv_LR_Reco.append(lr.score(tmp_X_test_Reco, tmp_Y_test_Reco))\n",
    "        "
   ]
  },
  {
   "cell_type": "code",
   "execution_count": null,
   "metadata": {},
   "outputs": [],
   "source": [
    "plt.figure()\n",
    "plt.plot(cv_LR_Base)\n",
    "plt.plot(cv_LR_Anes)\n",
    "plt.plot(cv_LR_Reco)\n",
    "plt.legend(['Baseline','Anesthesia','Recovery'])\n",
    "plt.xlabel('cross validation')\n",
    "plt.ylabel('accuracy')\n",
    "plt.title('combined_CV')\n",
    "#plt.savefig('combined_LogRefg_CV.png',dpi=150)"
   ]
  },
  {
   "cell_type": "code",
   "execution_count": null,
   "metadata": {},
   "outputs": [],
   "source": [
    "np.mean(cv_LR_Base)"
   ]
  },
  {
   "cell_type": "code",
   "execution_count": null,
   "metadata": {},
   "outputs": [],
   "source": [
    "from sklearn.linear_model import LogisticRegression\n",
    "\n",
    "\n",
    "cv_LR_Base=[]\n",
    "cv_LR_Anes=[]\n",
    "cv_LR_Reco=[]\n",
    "\n",
    "FI_LR_Base=[]\n",
    "FI_LR_Anes=[]\n",
    "FI_LR_Reco=[]\n",
    "\n",
    "for r in range(0,4):\n",
    "    for c in range (0,4):\n",
    "        tmp_X_test_Base=X_Base[(Y_ID_Base == Part_reco[r]) | (Y_ID_Base == Part_chro[c])]\n",
    "        tmp_X_train_Base=X_Base[(Y_ID_Base != Part_reco[r]) & (Y_ID_Base != Part_chro[c])]\n",
    "        tmp_Y_test_Base=Y_out_Base[(Y_ID_Base == Part_reco[r]) | (Y_ID_Base == Part_chro[c])]\n",
    "        tmp_Y_train_Base=Y_out_Base[(Y_ID_Base != Part_reco[r]) & (Y_ID_Base != Part_chro[c])]\n",
    "        \n",
    "        tmp_X_test_Anes=X_Anes[(Y_ID_Anes == Part_reco[r]) | (Y_ID_Anes == Part_chro[c])]\n",
    "        tmp_X_train_Anes=X_Anes[(Y_ID_Anes != Part_reco[r]) & (Y_ID_Anes != Part_chro[c])]\n",
    "        tmp_Y_test_Anes=Y_out_Anes[(Y_ID_Anes == Part_reco[r]) | (Y_ID_Anes == Part_chro[c])]\n",
    "        tmp_Y_train_Anes=Y_out_Anes[(Y_ID_Anes != Part_reco[r]) & (Y_ID_Anes != Part_chro[c])]\n",
    "\n",
    "        tmp_X_test_Reco=X_Reco[(Y_ID_Reco == Part_reco[r]) | (Y_ID_Reco == Part_chro[c])]\n",
    "        tmp_X_train_Reco=X_Reco[(Y_ID_Reco != Part_reco[r]) & (Y_ID_Reco != Part_chro[c])]\n",
    "        tmp_Y_test_Reco=Y_out_Reco[(Y_ID_Reco == Part_reco[r]) | (Y_ID_Reco == Part_chro[c])]\n",
    "        tmp_Y_train_Reco=Y_out_Reco[(Y_ID_Reco != Part_reco[r]) & (Y_ID_Reco != Part_chro[c])]\n",
    "\n",
    "        lr = LogisticRegression(random_state=0, penalty='l1', C=4,max_iter=1000,solver='liblinear')\n",
    "        lr.fit(tmp_X_train_Base, tmp_Y_train_Base)\n",
    "        P_lr = lr.predict(tmp_X_test_Base)\n",
    "        cv_LR_Base.append(metrics.accuracy_score(tmp_Y_test_Base, P_lr))\n",
    "        FI_LR_Base.append(lr.coef_)\n",
    "        \n",
    "\n",
    "        lr = LogisticRegression(random_state=0, penalty='l1', C=4,max_iter=1000,solver='liblinear')\n",
    "        lr.fit(tmp_X_train_Anes, tmp_Y_train_Anes)\n",
    "        P_lr = lr.predict(tmp_X_test_Anes)\n",
    "        cv_LR_Anes.append(metrics.accuracy_score(tmp_Y_test_Anes, P_lr))\n",
    "        FI_LR_Anes.append(lr.coef_)\n",
    "        \n",
    "        lr = LogisticRegression(random_state=0, penalty='l1', C=4,max_iter=1000,solver='liblinear')\n",
    "        lr.fit(tmp_X_train_Reco, tmp_Y_train_Reco)\n",
    "        P_lr = lr.predict(tmp_X_test_Reco)\n",
    "        cv_LR_Reco.append(metrics.accuracy_score(tmp_Y_test_Reco, P_lr))\n",
    "        FI_LR_Reco.append(lr.coef_)\n",
    "        "
   ]
  },
  {
   "cell_type": "code",
   "execution_count": null,
   "metadata": {
    "pycharm": {
     "is_executing": false,
     "name": "#%%\n"
    }
   },
   "outputs": [],
   "source": [
    "plt.figure()\n",
    "plt.plot(cv_LR_Base)\n",
    "plt.plot(cv_LR_Anes)\n",
    "plt.plot(cv_LR_Reco)\n",
    "plt.legend(['Baseline','Anesthesia','Recovery'])\n",
    "plt.xlabel('cross validation')\n",
    "plt.ylabel('accuracy')\n",
    "plt.title('combined_CV')\n",
    "plt.savefig('combined_LogRefg_CV.png',dpi=150)"
   ]
  },
  {
   "cell_type": "code",
   "execution_count": null,
   "metadata": {
    "pycharm": {
     "is_executing": false,
     "name": "#%%\n"
    }
   },
   "outputs": [],
   "source": [
    "right_Anes = np.where(np.array(cv_LR_Anes) > 0.5)[0]\n",
    "right_Base = np.where(np.array(cv_LR_Base) > 0.5)[0]\n",
    "right_Reco = np.where(np.array(cv_LR_Reco) > 0.4)[0]\n",
    "\n"
   ]
  },
  {
   "cell_type": "code",
   "execution_count": null,
   "metadata": {},
   "outputs": [],
   "source": [
    "len(FI_LR_Base)\n"
   ]
  },
  {
   "cell_type": "code",
   "execution_count": null,
   "metadata": {
    "pycharm": {
     "name": "#%%\n"
    }
   },
   "outputs": [],
   "source": [
    "FI_LR_Base= list(FI_LR_Base[i] for i in right_Base)\n",
    "FI_LR_Anes= list(FI_LR_Anes[i] for i in right_Anes)\n",
    "FI_LR_Reco= list(FI_LR_Reco[i] for i in right_Reco)\n",
    "\n",
    "\n"
   ]
  },
  {
   "cell_type": "code",
   "execution_count": null,
   "metadata": {
    "pycharm": {
     "name": "#%%\n"
    }
   },
   "outputs": [],
   "source": [
    "feat_importances_Base_LR = pd.Series(abs(np.mean(FI_LR_Base[0:],axis=0)[0]), index=X_Base.columns)\n",
    "feat_importances_Anes_LR = pd.Series(abs(np.mean(FI_LR_Anes[0:],axis=0)[0]), index=X_Base.columns)\n",
    "feat_importances_Reco_LR = pd.Series(abs(np.mean(FI_LR_Reco[0:],axis=0)[0]), index=X_Base.columns)\n"
   ]
  },
  {
   "cell_type": "code",
   "execution_count": null,
   "metadata": {},
   "outputs": [],
   "source": [
    "plt.figure(figsize= [10, 6])\n",
    "plt.subplot(121)\n",
    "feat_importances_Base_LR.plot(kind='barh')\n",
    "plt.title('LR_Baseline')\n",
    "plt.subplot(122)\n",
    "feat_importances_Anes_LR.plot(kind='barh',color='orange')\n",
    "plt.title('Anesthesia')\n",
    "plt.savefig('combined_LogRefg_features.png',dpi=150)\n",
    "#plt.subplot(133)\n",
    "#feat_importances_Reco_LR.plot(kind='barh',color='green')\n",
    "#plt.title('Recovery')"
   ]
  },
  {
   "cell_type": "code",
   "execution_count": null,
   "metadata": {},
   "outputs": [],
   "source": [
    "feat_importances_Base_LR = pd.Series(abs(np.mean(FI_LR_Base[0:],axis=0)[0]), index=X_Base.columns)\n",
    "feat_importances_Anes_LR = pd.Series(abs(np.mean(FI_LR_Anes[0:],axis=0)[0]), index=X_Base.columns)\n",
    "feat_importances_Reco_LR = pd.Series(abs(np.mean(FI_LR_Reco[0:],axis=0)[0]), index=X_Base.columns)\n"
   ]
  },
  {
   "cell_type": "code",
   "execution_count": null,
   "metadata": {},
   "outputs": [],
   "source": [
    "plt.figure(figsize= [10, 6])\n",
    "plt.subplot(121)\n",
    "feat_importances_Base_LR.plot(kind='barh')\n",
    "plt.title('LR_Baseline')\n",
    "plt.subplot(122)\n",
    "feat_importances_Anes_LR.plot(kind='barh',color='orange')\n",
    "plt.title('Anesthesia')\n",
    "plt.savefig('combined_LogRefg_features.png',dpi=150)\n",
    "#plt.subplot(133)\n",
    "#feat_importances_Reco_LR.plot(kind='barh',color='green')\n",
    "#plt.title('Recovery')"
   ]
  },
  {
   "cell_type": "code",
   "execution_count": null,
   "metadata": {
    "pycharm": {
     "is_executing": false,
     "name": "#%%\n"
    }
   },
   "outputs": [],
   "source": [
    "np.mean(cv_LR_Base)\n",
    "np.std(cv_LR_Base)\n",
    "\n",
    "np.mean(cv_LR_Anes)\n",
    "np.std(cv_LR_Anes)\n",
    "\n",
    "np.mean(cv_LR_Reco)\n",
    "np.std(cv_LR_Reco)\n"
   ]
  },
  {
   "cell_type": "markdown",
   "metadata": {
    "pycharm": {
     "name": "#%% md\n"
    }
   },
   "source": [
    "SVM (sklearn)\n"
   ]
  },
  {
   "cell_type": "code",
   "execution_count": null,
   "metadata": {
    "pycharm": {
     "is_executing": false,
     "name": "#%%\n"
    }
   },
   "outputs": [],
   "source": [
    "cs=np.arange(0.3,6,0.2)\n",
    "\n",
    "svm_accuracy_Base=[]\n",
    "svm_accuracy_Anes=[]\n",
    "svm_accuracy_Reco=[]\n",
    "\n",
    "for c in cs:\n",
    "    svm_model = svm.LinearSVC(C=c, loss=\"hinge\" , max_iter=100000)\n",
    "    svm_model.fit(X_train_Base,Y_train_Base)\n",
    "    P_lr=svm_model.predict(X_test_Base)\n",
    "    svm_accuracy_Base.append(metrics.accuracy_score(Y_test_Base, P_lr))\n",
    "\n",
    "    svm_model = svm.LinearSVC(C=c, loss=\"hinge\", max_iter=100000)\n",
    "    svm_model.fit(X_train_Anes,Y_train_Anes)\n",
    "    P_lr=svm_model.predict(X_test_Anes)\n",
    "    svm_accuracy_Anes.append(metrics.accuracy_score(Y_test_Anes, P_lr))\n",
    "\n",
    "    svm_model = svm.LinearSVC(C=c, loss=\"hinge\", max_iter=100000)\n",
    "    svm_model.fit(X_train_Reco,Y_train_Reco)\n",
    "    P_lr=svm_model.predict(X_test_Reco)\n",
    "    svm_accuracy_Reco.append(metrics.accuracy_score(Y_test_Reco, P_lr))\n"
   ]
  },
  {
   "cell_type": "code",
   "execution_count": null,
   "metadata": {
    "pycharm": {
     "is_executing": false
    }
   },
   "outputs": [],
   "source": [
    "\n",
    "plt.plot(cs,svm_accuracy_Base)\n",
    "plt.plot(cs,svm_accuracy_Anes)\n",
    "plt.plot(cs,svm_accuracy_Reco)\n",
    "plt.ylabel('Accuracy')\n",
    "plt.xlabel('C')\n",
    "plt.title('Support Vector Machine')\n",
    "plt.legend(['Baseline','Anesthesia','Recovery'])\n",
    "plt.show()\n",
    "plt.savefig('combined_SVM_hyper.png',dpi=150)"
   ]
  },
  {
   "cell_type": "code",
   "execution_count": null,
   "metadata": {
    "pycharm": {
     "is_executing": false,
     "name": "#%%\n"
    }
   },
   "outputs": [],
   "source": [
    "cv_SVM_Base=[]\n",
    "cv_SVM_Anes=[]\n",
    "cv_SVM_Reco=[]\n",
    "\n",
    "FI_SVM_Base=[]\n",
    "FI_SVM_Anes=[]\n",
    "FI_SVM_Reco=[]\n",
    "\n",
    "\n",
    "for r in range(0,4):\n",
    "    for c in range (0,4):\n",
    "        tmp_X_test_Base=X_Base[(Y_ID_Base == Part_reco[r]) | (Y_ID_Base == Part_chro[c])]\n",
    "        tmp_X_train_Base=X_Base[(Y_ID_Base != Part_reco[r]) & (Y_ID_Base != Part_chro[c])]\n",
    "        tmp_Y_test_Base=Y_out_Base[(Y_ID_Base == Part_reco[r]) | (Y_ID_Base == Part_chro[c])]\n",
    "        tmp_Y_train_Base=Y_out_Base[(Y_ID_Base != Part_reco[r]) & (Y_ID_Base != Part_chro[c])]\n",
    "\n",
    "        tmp_X_test_Anes=X_Anes[(Y_ID_Anes == Part_reco[r]) | (Y_ID_Anes == Part_chro[c])]\n",
    "        tmp_X_train_Anes=X_Anes[(Y_ID_Anes != Part_reco[r]) & (Y_ID_Anes != Part_chro[c])]\n",
    "        tmp_Y_test_Anes=Y_out_Anes[(Y_ID_Anes == Part_reco[r]) | (Y_ID_Anes == Part_chro[c])]\n",
    "        tmp_Y_train_Anes=Y_out_Anes[(Y_ID_Anes != Part_reco[r]) & (Y_ID_Anes != Part_chro[c])]\n",
    "\n",
    "        tmp_X_test_Reco=X_Reco[(Y_ID_Reco == Part_reco[r]) | (Y_ID_Reco == Part_chro[c])]\n",
    "        tmp_X_train_Reco=X_Reco[(Y_ID_Reco != Part_reco[r]) & (Y_ID_Reco != Part_chro[c])]\n",
    "        tmp_Y_test_Reco=Y_out_Reco[(Y_ID_Reco == Part_reco[r]) | (Y_ID_Reco == Part_chro[c])]\n",
    "        tmp_Y_train_Reco=Y_out_Reco[(Y_ID_Reco != Part_reco[r]) & (Y_ID_Reco != Part_chro[c])]\n",
    "\n",
    "        svm_model = svm.LinearSVC(C=4, loss=\"hinge\", max_iter=100000)\n",
    "        svm_model.fit(tmp_X_train_Base, tmp_Y_train_Base)\n",
    "        P_lr = svm_model.predict(tmp_X_test_Base)\n",
    "        cv_SVM_Base.append(metrics.accuracy_score(tmp_Y_test_Base, P_lr))\n",
    "        FI_SVM_Base.append(svm_model.coef_.flatten())\n",
    "\n",
    "        svm_model = svm.LinearSVC(C=4, loss=\"hinge\", max_iter=100000)\n",
    "        svm_model.fit(tmp_X_train_Anes, tmp_Y_train_Anes)\n",
    "        P_lr = svm_model.predict(tmp_X_test_Anes)\n",
    "        cv_SVM_Anes.append(metrics.accuracy_score(tmp_Y_test_Anes, P_lr))\n",
    "        FI_SVM_Anes.append(svm_model.coef_.flatten())\n",
    "\n",
    "        svm_model = svm.LinearSVC(C=4, loss=\"hinge\", max_iter=100000)\n",
    "        svm_model.fit(tmp_X_train_Reco, tmp_Y_train_Reco)\n",
    "        P_lr = svm_model.predict(tmp_X_test_Reco)\n",
    "        cv_SVM_Reco.append(metrics.accuracy_score(tmp_Y_test_Reco, P_lr))\n",
    "        FI_SVM_Reco.append(svm_model.coef_.flatten())"
   ]
  },
  {
   "cell_type": "code",
   "execution_count": null,
   "metadata": {
    "pycharm": {
     "is_executing": false,
     "name": "#%%\n"
    }
   },
   "outputs": [],
   "source": [
    "plt.plot(cv_SVM_Base)\n",
    "plt.plot(cv_SVM_Anes)\n",
    "plt.plot(cv_SVM_Reco)\n",
    "plt.legend(['Baseline','Anesthesia','Recovery'])\n",
    "plt.xlabel('cross validation')\n",
    "plt.ylabel('accuracy')\n",
    "plt.title('SVM')\n",
    "plt.savefig('combined_SVM_CV.png',dpi=150)"
   ]
  },
  {
   "cell_type": "code",
   "execution_count": null,
   "metadata": {
    "pycharm": {
     "is_executing": false,
     "name": "#%%\n"
    }
   },
   "outputs": [],
   "source": [
    "np.mean(cv_SVM_Base)"
   ]
  },
  {
   "cell_type": "code",
   "execution_count": null,
   "metadata": {
    "pycharm": {
     "is_executing": false,
     "name": "#%%\n"
    }
   },
   "outputs": [],
   "source": [
    "np.std(cv_SVM_Base)"
   ]
  },
  {
   "cell_type": "code",
   "execution_count": null,
   "metadata": {
    "pycharm": {
     "is_executing": false,
     "name": "#%%\n"
    }
   },
   "outputs": [],
   "source": [
    "np.mean(cv_SVM_Anes)"
   ]
  },
  {
   "cell_type": "code",
   "execution_count": null,
   "metadata": {
    "pycharm": {
     "is_executing": false,
     "name": "#%%\n"
    }
   },
   "outputs": [],
   "source": [
    "np.std(cv_SVM_Anes)"
   ]
  },
  {
   "cell_type": "code",
   "execution_count": null,
   "metadata": {
    "pycharm": {
     "is_executing": false,
     "name": "#%%\n"
    }
   },
   "outputs": [],
   "source": [
    "np.mean(cv_SVM_Reco)"
   ]
  },
  {
   "cell_type": "code",
   "execution_count": null,
   "metadata": {
    "pycharm": {
     "is_executing": false,
     "name": "#%%\n"
    }
   },
   "outputs": [],
   "source": [
    "np.std(cv_SVM_Reco)"
   ]
  },
  {
   "cell_type": "code",
   "execution_count": null,
   "metadata": {
    "pycharm": {
     "is_executing": false,
     "name": "#%%\n"
    }
   },
   "outputs": [],
   "source": [
    "right_Anes = np.where(np.array(cv_SVM_Anes) > 0.5)[0]\n",
    "right_Base = np.where(np.array(cv_SVM_Base) > 0.5)[0]\n",
    "right_Reco = np.where(np.array(cv_SVM_Reco) > 0.5)[0]\n",
    "\n",
    "\n",
    "FI_SVM_Base=pd.DataFrame(FI_SVM_Base)\n",
    "FI_SVM_Anes=pd.DataFrame(FI_SVM_Anes)\n",
    "FI_SVM_Reco=pd.DataFrame(FI_SVM_Reco)\n",
    "\n",
    "feat_importances_Base_SVM_b = pd.Series(np.array(abs(np.mean(FI_SVM_Base.iloc[right_Base,:],axis=0))), index=X_Base.columns)\n",
    "feat_importances_Anes_SVM_b = pd.Series(np.array(abs(np.mean(FI_SVM_Anes.iloc[right_Anes,:],axis=0))), index=X_Base.columns)\n",
    "feat_importances_Reco_SVM_b = pd.Series(np.array(abs(np.mean(FI_SVM_Reco.iloc[right_Reco,:],axis=0))), index=X_Base.columns)\n",
    "\n",
    "feat_importances_Base_SVM = pd.Series(np.array((np.mean(FI_SVM_Base.iloc[right_Base,:],axis=0))), index=X_Base.columns)\n",
    "feat_importances_Anes_SVM = pd.Series(np.array((np.mean(FI_SVM_Anes.iloc[right_Anes,:],axis=0))), index=X_Base.columns)\n",
    "feat_importances_Reco_SVM = pd.Series(np.array((np.mean(FI_SVM_Reco.iloc[right_Reco,:],axis=0))), index=X_Base.columns)\n",
    "\n",
    "\n"
   ]
  },
  {
   "cell_type": "code",
   "execution_count": null,
   "metadata": {},
   "outputs": [],
   "source": [
    "plt.figure(figsize= [10, 6])\n",
    "plt.subplot(121)\n",
    "feat_importances_Base_SVM_b.plot(kind='barh')\n",
    "plt.title('SVM_Baseline')\n",
    "plt.subplot(122)\n",
    "feat_importances_Anes_SVM_b.plot(kind='barh',color='orange')\n",
    "plt.title('Anesthesia')\n",
    "plt.savefig('combined_SVM_features.png',dpi=150)\n",
    "#plt.subplot(133)\n",
    "#feat_importances_Reco_SVM_b.plot(kind='barh',color='green')\n",
    "#plt.title('Recovery')"
   ]
  },
  {
   "cell_type": "markdown",
   "metadata": {
    "pycharm": {
     "name": "#%% md\n"
    }
   },
   "source": [
    "Decision Tree"
   ]
  },
  {
   "cell_type": "code",
   "execution_count": null,
   "metadata": {
    "pycharm": {
     "is_executing": false,
     "name": "#%%\n"
    }
   },
   "outputs": [],
   "source": [
    "from sklearn import tree\n",
    "import graphviz\n",
    "\n",
    "#BAse\n",
    "clf = tree.DecisionTreeClassifier(criterion='entropy')\n",
    "clf = clf.fit(X_Base,Y_out_Base)\n",
    "dot_data = tree.export_graphviz(clf, out_file=None, feature_names=X_Base.columns, class_names=['Chronic', 'recovered'],\n",
    "                                filled=True, rounded=True, special_characters=True)\n",
    "graph = graphviz.Source(dot_data)\n",
    "graph.render('combined_Decision_Tree_Base')\n",
    "\n",
    "#Anes\n",
    "clf = tree.DecisionTreeClassifier(criterion='entropy')\n",
    "clf = clf.fit(X_Anes,Y_out_Anes)\n",
    "dot_data = tree.export_graphviz(clf, out_file=None, feature_names=X_Base.columns, class_names=['Chronic', 'recovered'],\n",
    "                                filled=True, rounded=True, special_characters=True)\n",
    "graph = graphviz.Source(dot_data)\n",
    "graph.render('combined_Decision_Tree_Anes')\n",
    "\n"
   ]
  },
  {
   "cell_type": "code",
   "execution_count": null,
   "metadata": {
    "pycharm": {
     "is_executing": false
    }
   },
   "outputs": [],
   "source": [
    "data = [[np.max(lr_accuracy_Base), np.max(svm_accuracy_Base)], \n",
    "        [np.max(lr_accuracy_Anes), np.max(svm_accuracy_Anes)],\n",
    "        [np.max(lr_accuracy_Reco), np.max(svm_accuracy_Reco)]]\n",
    "\n",
    "pd.DataFrame(data, columns=[\"test_Logistic Regression\", \"test_SVM\"],index=['Baseline','Anesthesia','Recovery'])"
   ]
  },
  {
   "cell_type": "code",
   "execution_count": null,
   "metadata": {
    "pycharm": {
     "is_executing": false
    }
   },
   "outputs": [],
   "source": [
    "data = [[np.mean(cv_LR_Base), np.mean(cv_SVM_Base)], \n",
    "        [np.mean(cv_LR_Anes), np.mean(cv_SVM_Anes)],\n",
    "        [np.mean(cv_LR_Reco), np.mean(cv_SVM_Reco)]]\n",
    "\n",
    "pd.DataFrame(data, columns=[\"test_Logistic Regression\", \"test_SVM\"],index=['Baseline','Anesthesia','Recovery'])"
   ]
  },
  {
   "cell_type": "code",
   "execution_count": 18,
   "metadata": {},
   "outputs": [],
   "source": [
    "from sklearn.neighbors import KNeighborsClassifier\n",
    "\n",
    "cv_KNN_Base=[]\n",
    "cv_KNN_Anes=[]\n",
    "cv_KNN_Reco=[]\n",
    "\n",
    "for r in range(0,4):\n",
    "    for c in range (0,4):\n",
    "        tmp_X_test_Base=X_Base[(Y_ID_Base == Part_reco[r]) | (Y_ID_Base == Part_chro[c])]\n",
    "        tmp_X_train_Base=X_Base[(Y_ID_Base != Part_reco[r]) & (Y_ID_Base != Part_chro[c])]\n",
    "        tmp_Y_test_Base=Y_out_Base[(Y_ID_Base == Part_reco[r]) | (Y_ID_Base == Part_chro[c])]\n",
    "        tmp_Y_train_Base=Y_out_Base[(Y_ID_Base != Part_reco[r]) & (Y_ID_Base != Part_chro[c])]\n",
    "\n",
    "        tmp_X_test_Anes=X_Anes[(Y_ID_Anes == Part_reco[r]) | (Y_ID_Anes == Part_chro[c])]\n",
    "        tmp_X_train_Anes=X_Anes[(Y_ID_Anes != Part_reco[r]) & (Y_ID_Anes != Part_chro[c])]\n",
    "        tmp_Y_test_Anes=Y_out_Anes[(Y_ID_Anes == Part_reco[r]) | (Y_ID_Anes == Part_chro[c])]\n",
    "        tmp_Y_train_Anes=Y_out_Anes[(Y_ID_Anes != Part_reco[r]) & (Y_ID_Anes != Part_chro[c])]\n",
    "\n",
    "        tmp_X_test_Reco=X_Reco[(Y_ID_Reco == Part_reco[r]) | (Y_ID_Reco == Part_chro[c])]\n",
    "        tmp_X_train_Reco=X_Reco[(Y_ID_Reco != Part_reco[r]) & (Y_ID_Reco != Part_chro[c])]\n",
    "        tmp_Y_test_Reco=Y_out_Reco[(Y_ID_Reco == Part_reco[r]) | (Y_ID_Reco == Part_chro[c])]\n",
    "        tmp_Y_train_Reco=Y_out_Reco[(Y_ID_Reco != Part_reco[r]) & (Y_ID_Reco != Part_chro[c])]\n",
    "\n",
    "        neigh = KNeighborsClassifier(n_neighbors=300)\n",
    "        neigh.fit(tmp_X_train_Base,tmp_Y_train_Base)\n",
    "        P_KNN = neigh.predict(tmp_X_test_Base)\n",
    "        cv_KNN_Base.append(metrics.accuracy_score(tmp_Y_test_Base, P_KNN))\n",
    "        \n",
    "        neigh = KNeighborsClassifier(n_neighbors=300)\n",
    "        neigh.fit(tmp_X_train_Anes,tmp_Y_train_Anes)\n",
    "        P_KNN = neigh.predict(tmp_X_test_Anes)\n",
    "        cv_KNN_Anes.append(metrics.accuracy_score(tmp_Y_test_Anes, P_KNN))\n",
    "\n",
    "        neigh = KNeighborsClassifier(n_neighbors=300)\n",
    "        neigh.fit(tmp_X_train_Reco,tmp_Y_train_Reco)\n",
    "        P_KNN = neigh.predict(tmp_X_test_Reco)\n",
    "        cv_KNN_Reco.append(metrics.accuracy_score(tmp_Y_test_Reco, P_KNN))\n"
   ]
  },
  {
   "cell_type": "code",
   "execution_count": 19,
   "metadata": {},
   "outputs": [
    {
     "data": {
      "text/plain": [
       "0.6879295532646048"
      ]
     },
     "execution_count": 19,
     "metadata": {},
     "output_type": "execute_result"
    }
   ],
   "source": [
    "np.mean(cv_KNN_Anes)"
   ]
  },
  {
   "cell_type": "code",
   "execution_count": 20,
   "metadata": {},
   "outputs": [
    {
     "data": {
      "image/png": "[encoded data removed]",
      "text/plain": [
       "<Figure size 432x288 with 1 Axes>"
      ]
     },
     "metadata": {
      "needs_background": "light"
     },
     "output_type": "display_data"
    }
   ],
   "source": [
    "plt.plot(cv_KNN_Base)\n",
    "plt.plot(cv_KNN_Anes)\n",
    "plt.plot(cv_KNN_Reco)\n",
    "plt.legend(['Baseline','Anesthesia','Recovery'])\n",
    "plt.xlabel('cross validation')\n",
    "plt.ylabel('accuracy')\n",
    "plt.title('dPLI_CV')\n",
    "plt.savefig('wPLI_LogRefg_CV.png',dpi=150)"
   ]
  }
 ],
 "metadata": {
  "kernelspec": {
   "display_name": "Python 3",
   "language": "python",
   "name": "python3"
  },
  "language_info": {
   "codemirror_mode": {
    "name": "ipython",
    "version": 3
   },
   "file_extension": ".py",
   "mimetype": "text/x-python",
   "name": "python",
   "nbconvert_exporter": "python",
   "pygments_lexer": "ipython3",
   "version": "3.7.3"
  },
  "pycharm": {
   "stem_cell": {
    "cell_type": "raw",
    "metadata": {
     "collapsed": false
    },
    "source": []
   }
  }
 },
 "nbformat": 4,
 "nbformat_minor": 1
}
