{
 "cells": [
  {
   "cell_type": "code",
   "execution_count": 1,
   "metadata": {
    "pycharm": {
     "is_executing": false
    }
   },
   "outputs": [],
   "source": [
    "%matplotlib inline\n",
    "\n",
    "import matplotlib.pyplot as plt\n",
    "import numpy as np"
   ]
  },
  {
   "cell_type": "code",
   "execution_count": 2,
   "metadata": {
    "pycharm": {
     "is_executing": false,
     "name": "#%%\n"
    }
   },
   "outputs": [],
   "source": [
    "from sklearn.model_selection import train_test_split\n",
    "import pandas as pd\n",
    "from sklearn import model_selection, naive_bayes, svm\n",
    "from sklearn.model_selection import permutation_test_score\n",
    "from sklearn.linear_model import LogisticRegression\n",
    "from sklearn.metrics import confusion_matrix\n",
    "import seaborn as sn\n",
    "from sklearn import metrics\n",
    "import random"
   ]
  },
  {
   "cell_type": "code",
   "execution_count": 3,
   "metadata": {
    "pycharm": {
     "is_executing": false,
     "name": "#%%\n"
    }
   },
   "outputs": [],
   "source": [
    "import sys\n",
    "sys.path.append('../')\n",
    "import dataimport.prepareDataset as prep"
   ]
  },
  {
   "cell_type": "code",
   "execution_count": 4,
   "metadata": {
    "pycharm": {
     "is_executing": false,
     "name": "#%%\n"
    }
   },
   "outputs": [],
   "source": [
    "random.seed(141)"
   ]
  },
  {
   "cell_type": "markdown",
   "metadata": {},
   "source": [
    "are there features which don't have any further content/ don't change over the whole periode\n"
   ]
  },
  {
   "cell_type": "code",
   "execution_count": 5,
   "metadata": {
    "pycharm": {
     "is_executing": false,
     "name": "#%%\n"
    }
   },
   "outputs": [],
   "source": [
    "Part_chro=['13','22','10', '18']\n",
    "Part_reco=['19','20','02','09']\n",
    "\n"
   ]
  },
  {
   "cell_type": "code",
   "execution_count": 6,
   "metadata": {
    "pycharm": {
     "is_executing": false,
     "name": "#%%\n"
    }
   },
   "outputs": [],
   "source": [
    "\n",
    "[X,Y_out,Y_ID]=prep.prepare_Contrast_Dataset('data/contrast_NEW_wPLI_all_10_1_left.pickle')"
   ]
  },
  {
   "cell_type": "markdown",
   "metadata": {},
   "source": [
    "define 30% test set \n",
    "!!!! only used to select the hyperparameters "
   ]
  },
  {
   "cell_type": "code",
   "execution_count": 7,
   "metadata": {
    "pycharm": {
     "is_executing": false,
     "name": "#%%\n"
    }
   },
   "outputs": [],
   "source": [
    "#X_train,X_test,Y_train,Y_test=train_test_split(X,Y_out,Y_ID,random_state=0,test_size=0.3)\n",
    "X_train,X_test,Y_train,Y_test,Y_ID_train,Y_ID_test=train_test_split(X,Y_out,Y_ID,random_state=0,test_size=0.3)\n"
   ]
  },
  {
   "cell_type": "markdown",
   "metadata": {
    "pycharm": {
     "name": "#%% md\n"
    }
   },
   "source": [
    "LOGISTIC REGRESSION\n",
    "  I Hyperparameter search"
   ]
  },
  {
   "cell_type": "code",
   "execution_count": 8,
   "metadata": {},
   "outputs": [
    {
     "name": "stderr",
     "output_type": "stream",
     "text": [
      "/Users/biapt/opt/anaconda3/lib/python3.7/site-packages/joblib/externals/loky/process_executor.py:706: UserWarning: A worker stopped while some jobs were given to the executor. This can be caused by a too short worker timeout or by a memory leak.\n",
      "  \"timeout or by a memory leak.\", UserWarning\n"
     ]
    }
   ],
   "source": [
    "lr=LogisticRegression(random_state=0,penalty='l1',C=4,solver='liblinear',max_iter=10000)\n",
    "\n",
    "score, permutation_scores, pvalue = permutation_test_score(\n",
    "    lr, X,Y_out, scoring=\"accuracy\", n_permutations=100, n_jobs=-1,cv=2)\n"
   ]
  },
  {
   "cell_type": "code",
   "execution_count": 9,
   "metadata": {},
   "outputs": [],
   "source": [
    "# View histogram of permutation scores\n",
    "plt.hist(permutation_scores, 20, label='Permutation scores Baseline')\n",
    "ylim = plt.ylim()\n",
    "plt.plot(2 * [score], ylim, '--g', linewidth=3,\n",
    "         label='Classification Score'\n",
    "         ' (pvalue %s)' % pvalue)\n",
    "plt.plot(2 * [1. / 2], ylim, '--k', linewidth=3, label='Luck')\n",
    "plt.legend()\n",
    "plt.xlabel('Score')\n",
    "\n",
    "plt.savefig('contrast_wPLI_LogReg_permutation.png',dpi=150)"
   ]
  },
  {
   "cell_type": "code",
   "execution_count": 10,
   "metadata": {
    "pycharm": {
     "is_executing": false,
     "name": "#%%\n"
    }
   },
   "outputs": [],
   "source": [
    "cs=np.arange(1,4,0.5)\n",
    "lr_accuracy=[]\n",
    "\n",
    "for c in cs:\n",
    "    lr=LogisticRegression(random_state=0,penalty='l1',C=c,solver='liblinear',max_iter=10000)\n",
    "    lr.fit(X_train,Y_train)\n",
    "    P_lr=lr.predict(X_test)\n",
    "    lr_accuracy.append(metrics.accuracy_score(Y_test, P_lr))"
   ]
  },
  {
   "cell_type": "code",
   "execution_count": 11,
   "metadata": {
    "pycharm": {
     "is_executing": false,
     "name": "#%%\n"
    }
   },
   "outputs": [
    {
     "data": {
      "text/plain": [
       "0.8283333754772801"
      ]
     },
     "execution_count": 11,
     "metadata": {},
     "output_type": "execute_result"
    }
   ],
   "source": [
    "np.mean(lr_accuracy)"
   ]
  },
  {
   "cell_type": "code",
   "execution_count": 12,
   "metadata": {
    "pycharm": {
     "is_executing": false,
     "name": "#%%\n"
    }
   },
   "outputs": [
    {
     "data": {
      "image/png": "[encoded data removed]",
      "text/plain": [
       "<Figure size 432x288 with 1 Axes>"
      ]
     },
     "metadata": {
      "needs_background": "light"
     },
     "output_type": "display_data"
    }
   ],
   "source": [
    "%matplotlib inline\n",
    "\n",
    "plt.plot(cs,lr_accuracy)\n",
    "plt.ylabel('Accuracy [%]')\n",
    "plt.xlabel('C')\n",
    "plt.title('Linear Regression')\n",
    "plt.legend(['Baseline','Anesthesia','Recovery'])\n",
    "plt.savefig('contrast_wpli_LogReg_hyper.png',dpi=150)\n",
    "plt.show()\n",
    "\n"
   ]
  },
  {
   "cell_type": "code",
   "execution_count": 13,
   "metadata": {
    "pycharm": {
     "is_executing": false,
     "name": "#%%\n"
    }
   },
   "outputs": [],
   "source": [
    "from sklearn.linear_model import LogisticRegression\n",
    "\n",
    "\n",
    "cv_LR=[]\n",
    "FI_LR=[]\n",
    "\n",
    "for r in range(0,4):\n",
    "    for c in range (0,4):\n",
    "        tmp_X_test=X[(Y_ID == Part_reco[r]) | (Y_ID == Part_chro[c])]\n",
    "        tmp_X_train=X[(Y_ID != Part_reco[r]) & (Y_ID != Part_chro[c])]\n",
    "        tmp_Y_test=Y_out[(Y_ID == Part_reco[r]) | (Y_ID == Part_chro[c])]\n",
    "        tmp_Y_train=Y_out[(Y_ID != Part_reco[r]) & (Y_ID != Part_chro[c])]\n",
    "        \n",
    "        lr = LogisticRegression(random_state=0, penalty='l1', C=4,max_iter=1000,solver='liblinear')\n",
    "        lr.fit(tmp_X_train, tmp_Y_train)\n",
    "        P_lr = lr.predict(tmp_X_test)\n",
    "        cv_LR.append(metrics.accuracy_score(tmp_Y_test, P_lr))\n",
    "        FI_LR.append(lr.coef_)"
   ]
  },
  {
   "cell_type": "code",
   "execution_count": 14,
   "metadata": {
    "pycharm": {
     "is_executing": false,
     "name": "#%%\n"
    }
   },
   "outputs": [
    {
     "data": {
      "image/png": "[encoded data removed]",
      "text/plain": [
       "<Figure size 432x288 with 1 Axes>"
      ]
     },
     "metadata": {
      "needs_background": "light"
     },
     "output_type": "display_data"
    }
   ],
   "source": [
    "\n",
    "plt.plot(cv_LR)\n",
    "plt.legend(['Baseline','Anesthesia','Recovery'])\n",
    "plt.xlabel('cross validation')\n",
    "plt.ylabel('accuracy')\n",
    "plt.title('wPLI_CV')\n",
    "plt.savefig('contrast_wPLI_LogRefg_CV.png',dpi=150)"
   ]
  },
  {
   "cell_type": "code",
   "execution_count": 15,
   "metadata": {
    "pycharm": {
     "is_executing": false,
     "name": "#%%\n"
    }
   },
   "outputs": [
    {
     "data": {
      "image/png": "[encoded data removed]",
      "text/plain": [
       "<Figure size 432x288 with 1 Axes>"
      ]
     },
     "metadata": {
      "needs_background": "light"
     },
     "output_type": "display_data"
    }
   ],
   "source": [
    "right = np.where(np.array(cv_LR) > 0.5)[0]\n",
    "\n",
    "FI_LR= list(FI_LR[i] for i in right)\n",
    "\n",
    "feat_importances_LR = pd.Series(abs(np.mean(FI_LR[0:],axis=0)[0]), index=X.columns)\n",
    "\n",
    "plt.plot\n",
    "feat_importances_LR.plot(kind='barh')\n",
    "plt.title('LR')\n",
    "\n",
    "plt.savefig('contrast_wPLI_LogReg_features.png',dpi=150)"
   ]
  },
  {
   "cell_type": "code",
   "execution_count": 16,
   "metadata": {
    "pycharm": {
     "is_executing": false,
     "name": "#%%\n"
    }
   },
   "outputs": [
    {
     "data": {
      "text/plain": [
       "0.12101435168471678"
      ]
     },
     "execution_count": 16,
     "metadata": {},
     "output_type": "execute_result"
    }
   ],
   "source": [
    "np.mean(cv_LR)\n",
    "np.std(cv_LR)"
   ]
  },
  {
   "cell_type": "markdown",
   "metadata": {
    "pycharm": {
     "name": "#%% md\n"
    }
   },
   "source": [
    "SVM (sklearn)\n"
   ]
  },
  {
   "cell_type": "code",
   "execution_count": 17,
   "metadata": {
    "pycharm": {
     "is_executing": false,
     "name": "#%%\n"
    }
   },
   "outputs": [],
   "source": [
    "cs=np.arange(0.3,6,0.2)\n",
    "\n",
    "svm_accuracy=[]\n",
    "svm_accuracy_Anes=[]\n",
    "svm_accuracy_Reco=[]\n",
    "\n",
    "for c in cs:\n",
    "    svm_model = svm.LinearSVC(C=c, loss=\"hinge\" , max_iter=100000)\n",
    "    svm_model.fit(X_train,Y_train)\n",
    "    P_lr=svm_model.predict(X_test)\n",
    "    svm_accuracy.append(metrics.accuracy_score(Y_test, P_lr))"
   ]
  },
  {
   "cell_type": "code",
   "execution_count": 18,
   "metadata": {},
   "outputs": [
    {
     "data": {
      "image/png": "[encoded data removed]",
      "text/plain": [
       "<Figure size 432x288 with 1 Axes>"
      ]
     },
     "metadata": {
      "needs_background": "light"
     },
     "output_type": "display_data"
    },
    {
     "data": {
      "text/plain": [
       "<Figure size 432x288 with 0 Axes>"
      ]
     },
     "metadata": {},
     "output_type": "display_data"
    }
   ],
   "source": [
    "\n",
    "plt.plot(cs,svm_accuracy)\n",
    "plt.ylabel('Accuracy')\n",
    "plt.xlabel('C')\n",
    "plt.title('Support Vector Machine')\n",
    "plt.legend(['Baseline','Anesthesia','Recovery'])\n",
    "plt.show()\n",
    "plt.savefig('contrast_wPLI_SVM_hyper.png',dpi=150)"
   ]
  },
  {
   "cell_type": "code",
   "execution_count": 19,
   "metadata": {
    "pycharm": {
     "is_executing": false,
     "name": "#%%\n"
    }
   },
   "outputs": [],
   "source": [
    "cv_SVM=[]\n",
    "\n",
    "FI_SVM=[]\n",
    "\n",
    "\n",
    "for r in range(0,4):\n",
    "    for c in range (0,4):\n",
    "        tmp_X_test=X[(Y_ID == Part_reco[r]) | (Y_ID == Part_chro[c])]\n",
    "        tmp_X_train=X[(Y_ID != Part_reco[r]) & (Y_ID != Part_chro[c])]\n",
    "        tmp_Y_test=Y_out[(Y_ID == Part_reco[r]) | (Y_ID == Part_chro[c])]\n",
    "        tmp_Y_train=Y_out[(Y_ID != Part_reco[r]) & (Y_ID != Part_chro[c])]\n",
    "        \n",
    "        svm_model = svm.LinearSVC(C=4, loss=\"hinge\", max_iter=1000000)\n",
    "        svm_model.fit(tmp_X_train, tmp_Y_train)\n",
    "        P_lr = svm_model.predict(tmp_X_test)\n",
    "        cv_SVM.append(metrics.accuracy_score(tmp_Y_test, P_lr))\n",
    "        FI_SVM.append(svm_model.coef_.flatten())"
   ]
  },
  {
   "cell_type": "code",
   "execution_count": 20,
   "metadata": {
    "pycharm": {
     "is_executing": false,
     "name": "#%%\n"
    }
   },
   "outputs": [
    {
     "data": {
      "image/png": "[encoded data removed]",
      "text/plain": [
       "<Figure size 432x288 with 1 Axes>"
      ]
     },
     "metadata": {
      "needs_background": "light"
     },
     "output_type": "display_data"
    }
   ],
   "source": [
    "plt.plot(cv_SVM)\n",
    "plt.legend(['Baseline','Anesthesia','Recovery'])\n",
    "plt.xlabel('cross validation')\n",
    "plt.ylabel('accuracy')\n",
    "plt.title('SVM')\n",
    "plt.savefig('contrast_wPLI_SVM_CV.png',dpi=150)"
   ]
  },
  {
   "cell_type": "code",
   "execution_count": 21,
   "metadata": {
    "pycharm": {
     "is_executing": false,
     "name": "#%%\n"
    }
   },
   "outputs": [
    {
     "data": {
      "text/plain": [
       "0.7110903032516525"
      ]
     },
     "execution_count": 21,
     "metadata": {},
     "output_type": "execute_result"
    }
   ],
   "source": [
    "np.mean(cv_SVM)"
   ]
  },
  {
   "cell_type": "code",
   "execution_count": 22,
   "metadata": {
    "pycharm": {
     "is_executing": false,
     "name": "#%%\n"
    }
   },
   "outputs": [
    {
     "data": {
      "text/plain": [
       "0.12777604700572737"
      ]
     },
     "execution_count": 22,
     "metadata": {},
     "output_type": "execute_result"
    }
   ],
   "source": [
    "np.std(cv_SVM)\n"
   ]
  },
  {
   "cell_type": "code",
   "execution_count": 23,
   "metadata": {
    "pycharm": {
     "is_executing": false,
     "name": "#%%\n"
    }
   },
   "outputs": [
    {
     "data": {
      "image/png": "[encoded data removed]",
      "text/plain": [
       "<Figure size 432x288 with 1 Axes>"
      ]
     },
     "metadata": {
      "needs_background": "light"
     },
     "output_type": "display_data"
    }
   ],
   "source": [
    "right = np.where(np.array(cv_SVM) > 0.5)[0]\n",
    "\n",
    "FI_SVM=pd.DataFrame(FI_SVM)\n",
    "\n",
    "feat_importances_SVM_b = pd.Series(np.array(abs(np.mean(FI_SVM.iloc[right,:],axis=0))), index=X.columns)\n",
    "\n",
    "feat_importances_SVM = pd.Series(np.array((np.mean(FI_SVM.iloc[right,:],axis=0))), index=X.columns)\n",
    "\n",
    "plt.plot()\n",
    "feat_importances_SVM_b.plot(kind='barh')\n",
    "plt.title('SVM')\n",
    "\n",
    "plt.savefig('contrast_wPLI_SVM_features.png',dpi=150)\n",
    "#plt.subplot(133)\n",
    "#feat_importances_Reco_SVM_b.plot(kind='barh',color='green')\n",
    "#plt.title('Recovery')\n"
   ]
  },
  {
   "cell_type": "markdown",
   "metadata": {
    "pycharm": {
     "name": "#%% md\n"
    }
   },
   "source": [
    "Decision Tree"
   ]
  },
  {
   "cell_type": "code",
   "execution_count": 24,
   "metadata": {
    "pycharm": {
     "is_executing": false,
     "name": "#%%\n"
    }
   },
   "outputs": [],
   "source": [
    "from sklearn import tree\n",
    "import graphviz\n",
    "\n",
    "#clf = tree.DecisionTreeClassifier(criterion='entropy')\n",
    "#clf = clf.fit(X,Y_out)\n",
    "#dot_data = tree.export_graphviz(clf, out_file=None, feature_names=X.columns, class_names=['Chronic', 'recovered'],\n",
    "#                                filled=True, rounded=True, special_characters=True)\n",
    "#graph = graphviz.Source(dot_data)\n",
    "#graph.render('contrast_wPLI_Decision_Tree')\n",
    "\n",
    "\n",
    "\n"
   ]
  },
  {
   "cell_type": "code",
   "execution_count": 25,
   "metadata": {},
   "outputs": [
    {
     "data": {
      "text/html": [
       "<div>\n",
       "<style scoped>\n",
       "    .dataframe tbody tr th:only-of-type {\n",
       "        vertical-align: middle;\n",
       "    }\n",
       "\n",
       "    .dataframe tbody tr th {\n",
       "        vertical-align: top;\n",
       "    }\n",
       "\n",
       "    .dataframe thead th {\n",
       "        text-align: right;\n",
       "    }\n",
       "</style>\n",
       "<table border=\"1\" class=\"dataframe\">\n",
       "  <thead>\n",
       "    <tr style=\"text-align: right;\">\n",
       "      <th></th>\n",
       "      <th>Logistic Regression</th>\n",
       "      <th>SVM</th>\n",
       "    </tr>\n",
       "  </thead>\n",
       "  <tbody>\n",
       "    <tr>\n",
       "      <td>30% Test</td>\n",
       "      <td>0.828341</td>\n",
       "      <td>0.830677</td>\n",
       "    </tr>\n",
       "    <tr>\n",
       "      <td>Cross Validation</td>\n",
       "      <td>0.707184</td>\n",
       "      <td>0.711090</td>\n",
       "    </tr>\n",
       "  </tbody>\n",
       "</table>\n",
       "</div>"
      ],
      "text/plain": [
       "                  Logistic Regression       SVM\n",
       "30% Test                     0.828341  0.830677\n",
       "Cross Validation             0.707184  0.711090"
      ]
     },
     "execution_count": 25,
     "metadata": {},
     "output_type": "execute_result"
    }
   ],
   "source": [
    "data = [[np.max(lr_accuracy), np.max(svm_accuracy)], \n",
    "        [np.mean(cv_LR), np.mean(cv_SVM)]]\n",
    "\n",
    "pd.DataFrame(data, columns=[\"Logistic Regression\", \"SVM\"],index=['30% Test','Cross Validation'])"
   ]
  },
  {
   "cell_type": "code",
   "execution_count": null,
   "metadata": {},
   "outputs": [],
   "source": []
  }
 ],
 "metadata": {
  "kernelspec": {
   "display_name": "PyCharm (DOC_Clustering)",
   "language": "python",
   "name": "pycharm-f35155be"
  },
  "language_info": {
   "codemirror_mode": {
    "name": "ipython",
    "version": 3
   },
   "file_extension": ".py",
   "mimetype": "text/x-python",
   "name": "python",
   "nbconvert_exporter": "python",
   "pygments_lexer": "ipython3",
   "version": "3.7.4"
  },
  "pycharm": {
   "stem_cell": {
    "cell_type": "raw",
    "source": [],
    "metadata": {
     "collapsed": false
    }
   }
  }
 },
 "nbformat": 4,
 "nbformat_minor": 1
}